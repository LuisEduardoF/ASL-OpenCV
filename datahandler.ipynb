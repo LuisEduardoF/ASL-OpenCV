{
 "cells": [
  {
   "cell_type": "code",
   "execution_count": 35,
   "metadata": {},
   "outputs": [],
   "source": [
    "import pandas as pd\n",
    "import numpy as np\n",
    "import os"
   ]
  },
  {
   "cell_type": "code",
   "execution_count": 6,
   "metadata": {},
   "outputs": [
    {
     "name": "stderr",
     "output_type": "stream",
     "text": [
      "2023-09-29 19:36:27.941343: I tensorflow/tsl/cuda/cudart_stub.cc:28] Could not find cuda drivers on your machine, GPU will not be used.\n",
      "2023-09-29 19:36:27.985035: E tensorflow/compiler/xla/stream_executor/cuda/cuda_dnn.cc:9342] Unable to register cuDNN factory: Attempting to register factory for plugin cuDNN when one has already been registered\n",
      "2023-09-29 19:36:27.985079: E tensorflow/compiler/xla/stream_executor/cuda/cuda_fft.cc:609] Unable to register cuFFT factory: Attempting to register factory for plugin cuFFT when one has already been registered\n",
      "2023-09-29 19:36:27.985102: E tensorflow/compiler/xla/stream_executor/cuda/cuda_blas.cc:1518] Unable to register cuBLAS factory: Attempting to register factory for plugin cuBLAS when one has already been registered\n",
      "2023-09-29 19:36:27.993386: I tensorflow/tsl/cuda/cudart_stub.cc:28] Could not find cuda drivers on your machine, GPU will not be used.\n",
      "2023-09-29 19:36:27.994071: I tensorflow/core/platform/cpu_feature_guard.cc:182] This TensorFlow binary is optimized to use available CPU instructions in performance-critical operations.\n",
      "To enable the following instructions: AVX2 FMA, in other operations, rebuild TensorFlow with the appropriate compiler flags.\n",
      "2023-09-29 19:36:29.070235: W tensorflow/compiler/tf2tensorrt/utils/py_utils.cc:38] TF-TRT Warning: Could not find TensorRT\n"
     ]
    }
   ],
   "source": [
    "import mediapipe as mp\n",
    "\n",
    "# STEP 3: Load the input image.\n",
    "image = mp.Image.create_from_file(\"image.jpg\")"
   ]
  },
  {
   "cell_type": "code",
   "execution_count": 9,
   "metadata": {},
   "outputs": [
    {
     "name": "stderr",
     "output_type": "stream",
     "text": [
      "INFO: Created TensorFlow Lite XNNPACK delegate for CPU.\n"
     ]
    }
   ],
   "source": [
    "from mediapipe.tasks import python\n",
    "from mediapipe.tasks.python import vision\n",
    "# STEP 2: Create an HandLandmarker object.\n",
    "base_options = python.BaseOptions(model_asset_path='hand_landmarker.task')\n",
    "options = vision.HandLandmarkerOptions(base_options=base_options,\n",
    "                                       num_hands=2)\n",
    "detector = vision.HandLandmarker.create_from_options(options)"
   ]
  },
  {
   "cell_type": "code",
   "execution_count": 67,
   "metadata": {},
   "outputs": [
    {
     "data": {
      "text/plain": [
       "[[NormalizedLandmark(x=0.39291912317276, y=0.7066095471382141, z=-3.293027077688748e-07, visibility=0.0, presence=0.0),\n",
       "  NormalizedLandmark(x=0.34312063455581665, y=0.7504479885101318, z=-0.019821790978312492, visibility=0.0, presence=0.0),\n",
       "  NormalizedLandmark(x=0.2708950638771057, y=0.7737331986427307, z=-0.027366425842046738, visibility=0.0, presence=0.0),\n",
       "  NormalizedLandmark(x=0.20807738602161407, y=0.779670238494873, z=-0.03694787248969078, visibility=0.0, presence=0.0),\n",
       "  NormalizedLandmark(x=0.15704940259456635, y=0.7829774022102356, z=-0.04580849036574364, visibility=0.0, presence=0.0),\n",
       "  NormalizedLandmark(x=0.2020859718322754, y=0.7279683947563171, z=0.004851780831813812, visibility=0.0, presence=0.0),\n",
       "  NormalizedLandmark(x=0.13295286893844604, y=0.743130087852478, z=-0.01850949414074421, visibility=0.0, presence=0.0),\n",
       "  NormalizedLandmark(x=0.09457877278327942, y=0.7587484121322632, z=-0.04270356521010399, visibility=0.0, presence=0.0),\n",
       "  NormalizedLandmark(x=0.06427456438541412, y=0.7747343182563782, z=-0.05866202712059021, visibility=0.0, presence=0.0),\n",
       "  NormalizedLandmark(x=0.19263559579849243, y=0.7007609009742737, z=-3.571662091417238e-05, visibility=0.0, presence=0.0),\n",
       "  NormalizedLandmark(x=0.11083298921585083, y=0.7078337669372559, z=-0.018199684098362923, visibility=0.0, presence=0.0),\n",
       "  NormalizedLandmark(x=0.05870845913887024, y=0.7205243110656738, z=-0.03833606839179993, visibility=0.0, presence=0.0),\n",
       "  NormalizedLandmark(x=0.017638981342315674, y=0.736172080039978, z=-0.053040239959955215, visibility=0.0, presence=0.0),\n",
       "  NormalizedLandmark(x=0.19935233891010284, y=0.6770334243774414, z=-0.010820012539625168, visibility=0.0, presence=0.0),\n",
       "  NormalizedLandmark(x=0.12269744277000427, y=0.6760034561157227, z=-0.028793808072805405, visibility=0.0, presence=0.0),\n",
       "  NormalizedLandmark(x=0.07378162443637848, y=0.6857254505157471, z=-0.04534677416086197, visibility=0.0, presence=0.0),\n",
       "  NormalizedLandmark(x=0.03343664109706879, y=0.699320912361145, z=-0.05583665147423744, visibility=0.0, presence=0.0),\n",
       "  NormalizedLandmark(x=0.22132857143878937, y=0.654582142829895, z=-0.02450055256485939, visibility=0.0, presence=0.0),\n",
       "  NormalizedLandmark(x=0.1608070731163025, y=0.6463568806648254, z=-0.03690389543771744, visibility=0.0, presence=0.0),\n",
       "  NormalizedLandmark(x=0.12067575007677078, y=0.6479213833808899, z=-0.045214664191007614, visibility=0.0, presence=0.0),\n",
       "  NormalizedLandmark(x=0.08355601876974106, y=0.6550387740135193, z=-0.05129045248031616, visibility=0.0, presence=0.0)],\n",
       " [NormalizedLandmark(x=0.4662620425224304, y=0.40013977885246277, z=2.7611559971774113e-07, visibility=0.0, presence=0.0),\n",
       "  NormalizedLandmark(x=0.519073486328125, y=0.44122543931007385, z=-0.020154574885964394, visibility=0.0, presence=0.0),\n",
       "  NormalizedLandmark(x=0.5820644497871399, y=0.4617445766925812, z=-0.021230580285191536, visibility=0.0, presence=0.0),\n",
       "  NormalizedLandmark(x=0.643897294998169, y=0.45654669404029846, z=-0.022692834958434105, visibility=0.0, presence=0.0),\n",
       "  NormalizedLandmark(x=0.6667944192886353, y=0.43280959129333496, z=-0.02487306296825409, visibility=0.0, presence=0.0),\n",
       "  NormalizedLandmark(x=0.625401496887207, y=0.4301188290119171, z=0.015087120234966278, visibility=0.0, presence=0.0),\n",
       "  NormalizedLandmark(x=0.6751241087913513, y=0.42833831906318665, z=0.003957920707762241, visibility=0.0, presence=0.0),\n",
       "  NormalizedLandmark(x=0.7018770575523376, y=0.42428499460220337, z=-0.013588840141892433, visibility=0.0, presence=0.0),\n",
       "  NormalizedLandmark(x=0.7248542904853821, y=0.4201323986053467, z=-0.027833469212055206, visibility=0.0, presence=0.0),\n",
       "  NormalizedLandmark(x=0.6212813854217529, y=0.403990775346756, z=0.013116266578435898, visibility=0.0, presence=0.0),\n",
       "  NormalizedLandmark(x=0.6726646423339844, y=0.3983727693557739, z=0.002355160191655159, visibility=0.0, presence=0.0),\n",
       "  NormalizedLandmark(x=0.7058770060539246, y=0.39449942111968994, z=-0.02020472101867199, visibility=0.0, presence=0.0),\n",
       "  NormalizedLandmark(x=0.7320601344108582, y=0.38988780975341797, z=-0.03838092461228371, visibility=0.0, presence=0.0),\n",
       "  NormalizedLandmark(x=0.6041418313980103, y=0.3799363374710083, z=0.006355364806950092, visibility=0.0, presence=0.0),\n",
       "  NormalizedLandmark(x=0.6506683826446533, y=0.37140926718711853, z=-0.008232945576310158, visibility=0.0, presence=0.0),\n",
       "  NormalizedLandmark(x=0.6778689622879028, y=0.3689419627189636, z=-0.0282795038074255, visibility=0.0, presence=0.0),\n",
       "  NormalizedLandmark(x=0.6980123519897461, y=0.3672705292701721, z=-0.04215899854898453, visibility=0.0, presence=0.0),\n",
       "  NormalizedLandmark(x=0.5778369307518005, y=0.3554137945175171, z=-0.0028185213450342417, visibility=0.0, presence=0.0),\n",
       "  NormalizedLandmark(x=0.616600751876831, y=0.34632137417793274, z=-0.015847906470298767, visibility=0.0, presence=0.0),\n",
       "  NormalizedLandmark(x=0.6417916417121887, y=0.3443954586982727, z=-0.02678474225103855, visibility=0.0, presence=0.0),\n",
       "  NormalizedLandmark(x=0.6629310250282288, y=0.34515947103500366, z=-0.03540591895580292, visibility=0.0, presence=0.0)]]"
      ]
     },
     "execution_count": 67,
     "metadata": {},
     "output_type": "execute_result"
    }
   ],
   "source": [
    "# STEP 4: Detect hand landmarks from the input image.\n",
    "detection_result = detector.detect(image)\n",
    "detection_result.hand_landmarks"
   ]
  },
  {
   "cell_type": "code",
   "execution_count": 91,
   "metadata": {},
   "outputs": [],
   "source": [
    "# Function to recursively read files in folders\n",
    "def read_images(folder_path):\n",
    "    X = []\n",
    "    y = []\n",
    "    classes = set([])\n",
    "    for root, dirs, files in os.walk(folder_path):\n",
    "        for file in files:\n",
    "            file_path = os.path.join(root, file)\n",
    "            \n",
    "            file_name = file\n",
    "            file_path = root\n",
    "            \n",
    "            image = mp.Image.create_from_file(file_path + \"/\" + file_name)\n",
    "            \n",
    "            detection_result = detector.detect(image)\n",
    "            if(len(detection_result.hand_landmarks) == 1):\n",
    "                X.append(detection_result.hand_landmarks)\n",
    "                y.append(file_path[-1])\n",
    "                if(file_path[-1] not in classes):\n",
    "                    print(file_path[-1])\n",
    "                classes.add(file_path[-1])\n",
    "            \n",
    "    return X, y"
   ]
  },
  {
   "cell_type": "code",
   "execution_count": 93,
   "metadata": {},
   "outputs": [
    {
     "name": "stdout",
     "output_type": "stream",
     "text": [
      "U\n",
      "W\n",
      "S\n",
      "F\n",
      "I\n",
      "C\n",
      "B\n",
      "J\n",
      "E\n",
      "Y\n",
      "D\n",
      "L\n",
      "H\n",
      "A\n",
      "G\n",
      "Z\n",
      "M\n",
      "V\n",
      "K\n",
      "N\n",
      "T\n",
      "k\n",
      "O\n",
      "X\n",
      "P\n",
      "R\n",
      "Q\n"
     ]
    }
   ],
   "source": [
    "X_train, y_train = read_images(\"./Train_Alphabet/\")"
   ]
  },
  {
   "cell_type": "code",
   "execution_count": 94,
   "metadata": {},
   "outputs": [
    {
     "name": "stdout",
     "output_type": "stream",
     "text": [
      "U\n",
      "W\n",
      "S\n",
      "F\n",
      "I\n"
     ]
    },
    {
     "name": "stdout",
     "output_type": "stream",
     "text": [
      "C\n",
      "B\n",
      "J\n",
      "E\n",
      "Y\n",
      "D\n",
      "L\n",
      "H\n",
      "A\n",
      "G\n",
      "Z\n",
      "M\n",
      "V\n",
      "K\n",
      "N\n",
      "T\n",
      "O\n",
      "X\n",
      "P\n",
      "R\n",
      "Q\n"
     ]
    }
   ],
   "source": [
    "X_test, y_test = read_images(\"./Test_Alphabet/\")"
   ]
  },
  {
   "cell_type": "code",
   "execution_count": 95,
   "metadata": {},
   "outputs": [],
   "source": [
    "np.save(\"X_train\", np.array(X_train))\n",
    "np.save(\"X_test\", np.array(X_test))"
   ]
  },
  {
   "cell_type": "code",
   "execution_count": null,
   "metadata": {},
   "outputs": [],
   "source": [
    "np.save(\"y_train\", np.array(y_train))\n",
    "np.save(\"y_test\", np.array(y_test))"
   ]
  }
 ],
 "metadata": {
  "kernelspec": {
   "display_name": "Python 3",
   "language": "python",
   "name": "python3"
  },
  "language_info": {
   "codemirror_mode": {
    "name": "ipython",
    "version": 3
   },
   "file_extension": ".py",
   "mimetype": "text/x-python",
   "name": "python",
   "nbconvert_exporter": "python",
   "pygments_lexer": "ipython3",
   "version": "3.10.12"
  },
  "orig_nbformat": 4
 },
 "nbformat": 4,
 "nbformat_minor": 2
}
