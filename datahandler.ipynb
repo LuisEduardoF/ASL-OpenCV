{
 "cells": [
  {
   "cell_type": "code",
   "execution_count": 1,
   "metadata": {},
   "outputs": [
    {
     "name": "stderr",
     "output_type": "stream",
     "text": [
      "2023-10-02 01:23:38.766395: E tensorflow/compiler/xla/stream_executor/cuda/cuda_dnn.cc:9342] Unable to register cuDNN factory: Attempting to register factory for plugin cuDNN when one has already been registered\n",
      "2023-10-02 01:23:38.766456: E tensorflow/compiler/xla/stream_executor/cuda/cuda_fft.cc:609] Unable to register cuFFT factory: Attempting to register factory for plugin cuFFT when one has already been registered\n",
      "2023-10-02 01:23:38.766486: E tensorflow/compiler/xla/stream_executor/cuda/cuda_blas.cc:1518] Unable to register cuBLAS factory: Attempting to register factory for plugin cuBLAS when one has already been registered\n",
      "2023-10-02 01:23:38.776200: I tensorflow/core/platform/cpu_feature_guard.cc:182] This TensorFlow binary is optimized to use available CPU instructions in performance-critical operations.\n",
      "To enable the following instructions: AVX2 FMA, in other operations, rebuild TensorFlow with the appropriate compiler flags.\n",
      "2023-10-02 01:23:39.971616: W tensorflow/compiler/tf2tensorrt/utils/py_utils.cc:38] TF-TRT Warning: Could not find TensorRT\n"
     ]
    }
   ],
   "source": [
    "import pandas as pd\n",
    "import numpy as np\n",
    "import os\n",
    "import mediapipe as mp\n",
    "from mediapipe.tasks import python\n",
    "from mediapipe.tasks.python import vision\n",
    "from pyspark.sql import SparkSession\n",
    "from pyspark.sql.types import StructType, StructField, FloatType\n",
    "from pyspark.sql import Row"
   ]
  },
  {
   "cell_type": "markdown",
   "metadata": {},
   "source": [
    "# HandLandmarker Detector"
   ]
  },
  {
   "cell_type": "code",
   "execution_count": 2,
   "metadata": {},
   "outputs": [
    {
     "name": "stderr",
     "output_type": "stream",
     "text": [
      "INFO: Created TensorFlow Lite XNNPACK delegate for CPU.\n"
     ]
    }
   ],
   "source": [
    "# Create an HandLandmarker object.\n",
    "base_options = python.BaseOptions(model_asset_path='hand_landmarker.task')\n",
    "options = vision.HandLandmarkerOptions(base_options=base_options,\n",
    "                                       num_hands=2)\n",
    "detector = vision.HandLandmarker.create_from_options(options)"
   ]
  },
  {
   "cell_type": "markdown",
   "metadata": {},
   "source": [
    "# Data processing"
   ]
  },
  {
   "cell_type": "code",
   "execution_count": 3,
   "metadata": {},
   "outputs": [
    {
     "data": {
      "text/html": [
       "<div>\n",
       "<style scoped>\n",
       "    .dataframe tbody tr th:only-of-type {\n",
       "        vertical-align: middle;\n",
       "    }\n",
       "\n",
       "    .dataframe tbody tr th {\n",
       "        vertical-align: top;\n",
       "    }\n",
       "\n",
       "    .dataframe thead th {\n",
       "        text-align: right;\n",
       "    }\n",
       "</style>\n",
       "<table border=\"1\" class=\"dataframe\">\n",
       "  <thead>\n",
       "    <tr style=\"text-align: right;\">\n",
       "      <th></th>\n",
       "      <th>x0</th>\n",
       "      <th>x1</th>\n",
       "      <th>x2</th>\n",
       "      <th>x3</th>\n",
       "      <th>x4</th>\n",
       "      <th>x5</th>\n",
       "      <th>x6</th>\n",
       "      <th>x7</th>\n",
       "      <th>x8</th>\n",
       "      <th>x9</th>\n",
       "      <th>...</th>\n",
       "      <th>z11</th>\n",
       "      <th>z12</th>\n",
       "      <th>z13</th>\n",
       "      <th>z14</th>\n",
       "      <th>z15</th>\n",
       "      <th>z16</th>\n",
       "      <th>z17</th>\n",
       "      <th>z18</th>\n",
       "      <th>z19</th>\n",
       "      <th>z20</th>\n",
       "    </tr>\n",
       "  </thead>\n",
       "  <tbody>\n",
       "  </tbody>\n",
       "</table>\n",
       "<p>0 rows × 63 columns</p>\n",
       "</div>"
      ],
      "text/plain": [
       "Empty DataFrame\n",
       "Columns: [x0, x1, x2, x3, x4, x5, x6, x7, x8, x9, x10, x11, x12, x13, x14, x15, x16, x17, x18, x19, x20, y0, y1, y2, y3, y4, y5, y6, y7, y8, y9, y10, y11, y12, y13, y14, y15, y16, y17, y18, y19, y20, z0, z1, z2, z3, z4, z5, z6, z7, z8, z9, z10, z11, z12, z13, z14, z15, z16, z17, z18, z19, z20]\n",
       "Index: []\n",
       "\n",
       "[0 rows x 63 columns]"
      ]
     },
     "execution_count": 3,
     "metadata": {},
     "output_type": "execute_result"
    }
   ],
   "source": [
    "#Create empty DatFrame\n",
    "df = pd.DataFrame(columns = [f\"x{i}\" for i in range(21)] + [f\"y{i}\" for i in range(21)] + [f\"z{i}\" for i in range(21)])\n",
    "df"
   ]
  },
  {
   "cell_type": "code",
   "execution_count": 4,
   "metadata": {},
   "outputs": [],
   "source": [
    "# Function to recursively read files in folders\n",
    "def read_images(folder_path):\n",
    "    X = []\n",
    "    y = []\n",
    "    classes = set([])\n",
    "    for root, dirs, files in os.walk(folder_path):\n",
    "        for file in files:\n",
    "            file_path = os.path.join(root, file)\n",
    "            \n",
    "            file_name = file\n",
    "            file_path = root\n",
    "            \n",
    "            image = mp.Image.create_from_file(file_path + \"/\" + file_name)\n",
    "            \n",
    "            detection_result = detector.detect(image)\n",
    "            letter = file_path.split(\"/\")[-1]\n",
    "            if(len(detection_result.hand_landmarks) == 1 and letter != \"Blank\"):\n",
    "                X.append(detection_result.hand_landmarks)\n",
    "                y.append(letter)\n",
    "                classes.add(letter)\n",
    "            \n",
    "    return X, y"
   ]
  },
  {
   "cell_type": "code",
   "execution_count": 5,
   "metadata": {},
   "outputs": [],
   "source": [
    "X_train, y_train = read_images(\"./data/Train_Alphabet/\")"
   ]
  },
  {
   "cell_type": "code",
   "execution_count": null,
   "metadata": {},
   "outputs": [],
   "source": [
    "X_test, y_test = read_images(\"./data/Test_Alphabet/\")"
   ]
  },
  {
   "cell_type": "code",
   "execution_count": null,
   "metadata": {},
   "outputs": [],
   "source": [
    "def image_to_df(samples, df):\n",
    "    samples = np.array(samples)\n",
    "    samples = [sample.flatten() for sample in samples]\n",
    "    for i in range(len(samples)):\n",
    "        row = {}\n",
    "        for j in range(len(samples[i])):\n",
    "            row[f\"x{j}\"] = samples[i][j].x\n",
    "            row[f\"y{j}\"] = samples[i][j].y\n",
    "            row[f\"z{j}\"] = samples[i][j].z\n",
    "        df.loc[len(df)] = row"
   ]
  },
  {
   "cell_type": "code",
   "execution_count": null,
   "metadata": {},
   "outputs": [],
   "source": [
    "image_to_df(X_train, df)\n",
    "image_to_df(X_test, df)"
   ]
  },
  {
   "cell_type": "code",
   "execution_count": null,
   "metadata": {},
   "outputs": [
    {
     "ename": "NameError",
     "evalue": "name 'y_test' is not defined",
     "output_type": "error",
     "traceback": [
      "\u001b[0;31m---------------------------------------------------------------------------\u001b[0m",
      "\u001b[0;31mNameError\u001b[0m                                 Traceback (most recent call last)",
      "\u001b[1;32m/home/lefcamara/asl_opencv/datahandler.ipynb Cell 11\u001b[0m line \u001b[0;36m1\n\u001b[0;32m----> <a href='vscode-notebook-cell://wsl%2Bubuntu/home/lefcamara/asl_opencv/datahandler.ipynb#X13sdnNjb2RlLXJlbW90ZQ%3D%3D?line=0'>1</a>\u001b[0m y \u001b[39m=\u001b[39m np\u001b[39m.\u001b[39mappend(y_train, y_test, axis\u001b[39m=\u001b[39m\u001b[39m0\u001b[39m)\n\u001b[1;32m      <a href='vscode-notebook-cell://wsl%2Bubuntu/home/lefcamara/asl_opencv/datahandler.ipynb#X13sdnNjb2RlLXJlbW90ZQ%3D%3D?line=1'>2</a>\u001b[0m df[\u001b[39m\"\u001b[39m\u001b[39mclass\u001b[39m\u001b[39m\"\u001b[39m] \u001b[39m=\u001b[39m y\n",
      "\u001b[0;31mNameError\u001b[0m: name 'y_test' is not defined"
     ]
    }
   ],
   "source": [
    "y = np.append(y_train, y_test, axis=0)\n",
    "df[\"class\"] = y"
   ]
  },
  {
   "cell_type": "code",
   "execution_count": null,
   "metadata": {},
   "outputs": [
    {
     "data": {
      "text/html": [
       "<div>\n",
       "<style scoped>\n",
       "    .dataframe tbody tr th:only-of-type {\n",
       "        vertical-align: middle;\n",
       "    }\n",
       "\n",
       "    .dataframe tbody tr th {\n",
       "        vertical-align: top;\n",
       "    }\n",
       "\n",
       "    .dataframe thead th {\n",
       "        text-align: right;\n",
       "    }\n",
       "</style>\n",
       "<table border=\"1\" class=\"dataframe\">\n",
       "  <thead>\n",
       "    <tr style=\"text-align: right;\">\n",
       "      <th></th>\n",
       "      <th>x0</th>\n",
       "      <th>x1</th>\n",
       "      <th>x2</th>\n",
       "      <th>x3</th>\n",
       "      <th>x4</th>\n",
       "      <th>x5</th>\n",
       "      <th>x6</th>\n",
       "      <th>x7</th>\n",
       "      <th>x8</th>\n",
       "      <th>x9</th>\n",
       "      <th>...</th>\n",
       "      <th>z11</th>\n",
       "      <th>z12</th>\n",
       "      <th>z13</th>\n",
       "      <th>z14</th>\n",
       "      <th>z15</th>\n",
       "      <th>z16</th>\n",
       "      <th>z17</th>\n",
       "      <th>z18</th>\n",
       "      <th>z19</th>\n",
       "      <th>z20</th>\n",
       "    </tr>\n",
       "  </thead>\n",
       "  <tbody>\n",
       "    <tr>\n",
       "      <th>0</th>\n",
       "      <td>0.120298</td>\n",
       "      <td>0.187145</td>\n",
       "      <td>0.229388</td>\n",
       "      <td>0.227301</td>\n",
       "      <td>0.201995</td>\n",
       "      <td>0.270536</td>\n",
       "      <td>0.308709</td>\n",
       "      <td>0.277825</td>\n",
       "      <td>0.263552</td>\n",
       "      <td>0.228318</td>\n",
       "      <td>...</td>\n",
       "      <td>-0.041533</td>\n",
       "      <td>-0.043614</td>\n",
       "      <td>0.000357</td>\n",
       "      <td>-0.033487</td>\n",
       "      <td>-0.045169</td>\n",
       "      <td>-0.044333</td>\n",
       "      <td>-0.004517</td>\n",
       "      <td>-0.023201</td>\n",
       "      <td>-0.033710</td>\n",
       "      <td>-0.039308</td>\n",
       "    </tr>\n",
       "    <tr>\n",
       "      <th>1</th>\n",
       "      <td>0.780754</td>\n",
       "      <td>0.730897</td>\n",
       "      <td>0.684163</td>\n",
       "      <td>0.644360</td>\n",
       "      <td>0.606403</td>\n",
       "      <td>0.716289</td>\n",
       "      <td>0.701756</td>\n",
       "      <td>0.696184</td>\n",
       "      <td>0.693506</td>\n",
       "      <td>0.750416</td>\n",
       "      <td>...</td>\n",
       "      <td>-0.056988</td>\n",
       "      <td>-0.048875</td>\n",
       "      <td>-0.026401</td>\n",
       "      <td>-0.058895</td>\n",
       "      <td>-0.050627</td>\n",
       "      <td>-0.035684</td>\n",
       "      <td>-0.028742</td>\n",
       "      <td>-0.047905</td>\n",
       "      <td>-0.037866</td>\n",
       "      <td>-0.025401</td>\n",
       "    </tr>\n",
       "  </tbody>\n",
       "</table>\n",
       "<p>2 rows × 63 columns</p>\n",
       "</div>"
      ],
      "text/plain": [
       "         x0        x1        x2        x3        x4        x5        x6  \\\n",
       "0  0.120298  0.187145  0.229388  0.227301  0.201995  0.270536  0.308709   \n",
       "1  0.780754  0.730897  0.684163  0.644360  0.606403  0.716289  0.701756   \n",
       "\n",
       "         x7        x8        x9  ...       z11       z12       z13       z14  \\\n",
       "0  0.277825  0.263552  0.228318  ... -0.041533 -0.043614  0.000357 -0.033487   \n",
       "1  0.696184  0.693506  0.750416  ... -0.056988 -0.048875 -0.026401 -0.058895   \n",
       "\n",
       "        z15       z16       z17       z18       z19       z20  \n",
       "0 -0.045169 -0.044333 -0.004517 -0.023201 -0.033710 -0.039308  \n",
       "1 -0.050627 -0.035684 -0.028742 -0.047905 -0.037866 -0.025401  \n",
       "\n",
       "[2 rows x 63 columns]"
      ]
     },
     "execution_count": 26,
     "metadata": {},
     "output_type": "execute_result"
    }
   ],
   "source": [
    "df"
   ]
  },
  {
   "cell_type": "code",
   "execution_count": null,
   "metadata": {},
   "outputs": [],
   "source": [
    "df.to_csv(\"data/asl_dataset.csv\")"
   ]
  }
 ],
 "metadata": {
  "kernelspec": {
   "display_name": "Python 3",
   "language": "python",
   "name": "python3"
  },
  "language_info": {
   "codemirror_mode": {
    "name": "ipython",
    "version": 3
   },
   "file_extension": ".py",
   "mimetype": "text/x-python",
   "name": "python",
   "nbconvert_exporter": "python",
   "pygments_lexer": "ipython3",
   "version": "3.10.12"
  },
  "orig_nbformat": 4
 },
 "nbformat": 4,
 "nbformat_minor": 2
}
